{
 "cells": [
  {
   "cell_type": "code",
   "execution_count": null,
   "metadata": {
    "collapsed": true
   },
   "outputs": [],
   "source": [
    "# Загружаем библиотеки\n",
    "import numpy as np\n",
    "import matplotlib.pyplot as plt\n",
    "import pandas as pd\n",
    "from sklearn.model_selection import train_test_split\n",
    "from sklearn.linear_model import LinearRegression\n",
    "from sklearn import datasets"
   ]
  },
  {
   "cell_type": "code",
   "execution_count": null,
   "metadata": {},
   "outputs": [],
   "source": [
    "# загружаем данные\n",
    "df = pd.read_csv(\"Salary_Data.csv\")"
   ]
  },
  {
   "cell_type": "code",
   "execution_count": null,
   "metadata": {},
   "outputs": [],
   "source": [
    "# y = заработная плата, X = опыт\n",
    "print(df.columns)\n",
    "X = df[\"YearsExperience\"]\n",
    "y = df[\"Salary\"]\n",
    "print(X)\n",
    "print(y)\n",
    "X = X.values.reshape(len(X), 1)\n",
    "y = y.values.reshape(len(y), 1)"
   ]
  },
  {
   "cell_type": "code",
   "execution_count": null,
   "metadata": {},
   "outputs": [],
   "source": [
    "# Разделим данные на тренировочную и тестовую выборку\n",
    "X_train, X_test, y_train, y_test = train_test_split(\n",
    "    X, y, test_size=1 / 3, random_state=0\n",
    ")"
   ]
  },
  {
   "cell_type": "code",
   "execution_count": null,
   "metadata": {},
   "outputs": [],
   "source": [
    "# Создаем регрессора как метод, не указываем дополнительные параметры\n",
    "regressor = LinearRegression()\n",
    "# Тренеруем модель на тренировочных данных.\n",
    "regressor.fit(X_train, y_train)  # ваша первая модель машинного обучения!"
   ]
  },
  {
   "cell_type": "code",
   "execution_count": null,
   "metadata": {
    "lines_to_next_cell": 2
   },
   "outputs": [],
   "source": [
    "# Прогнозируем результаты тестовой выборки\n",
    "# Разница между y_pred и y_test в том, что y_pred это прогнозные значения\n",
    "# Теперь мы можем сравнить их с тестовыми значениями\n",
    "y_pred = regressor.predict(X_test)"
   ]
  },
  {
   "cell_type": "code",
   "execution_count": null,
   "metadata": {},
   "outputs": [],
   "source": [
    "# Визуализация результатов тренировочного набор данных\n",
    "plt.scatter(X_train, y_train, color=\"red\")\n",
    "plt.plot(X_train, regressor.predict(X_train), color=\"blue\")\n",
    "plt.title(\"Заработная плата vs Опыт(Тренировочные данные)\")\n",
    "plt.xlabel(\"Опыт в годах\")\n",
    "plt.ylabel(\"Заработная плата\")\n",
    "plt.show()"
   ]
  },
  {
   "cell_type": "code",
   "execution_count": null,
   "metadata": {},
   "outputs": [],
   "source": [
    "# Визуализация результатов тестового набор данных\n",
    "plt.scatter(X_test, y_test, color=\"red\")\n",
    "# линию регресии не меняем. Мы получим тестовые и оценим как линия регрессии\n",
    "# описывает тестовый набор\n",
    "plt.plot(X_train, regressor.predict(X_train), color=\"blue\")\n",
    "plt.title(\"Заработная плата vs Опыт(Тестовые данные)\")\n",
    "plt.xlabel(\"Опыт в годах\")\n",
    "plt.ylabel(\"Заработная плата\")\n",
    "plt.show()"
   ]
  }
 ],
 "metadata": {
  "kernelspec": {
   "display_name": "Python 2",
   "language": "python",
   "name": "python2"
  },
  "language_info": {
   "codemirror_mode": {
    "name": "ipython",
    "version": 2
   },
   "file_extension": ".py",
   "mimetype": "text/x-python",
   "name": "python",
   "nbconvert_exporter": "python",
   "pygments_lexer": "ipython2",
   "version": "2.7.6"
  }
 },
 "nbformat": 4,
 "nbformat_minor": 0
}
