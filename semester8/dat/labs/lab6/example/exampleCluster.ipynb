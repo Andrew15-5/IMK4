{
 "cells": [
  {
   "cell_type": "code",
   "execution_count": null,
   "metadata": {
    "collapsed": true
   },
   "outputs": [],
   "source": [
    "# Импортируем библиотеки для Kmeans\n",
    "from sklearn import datasets\n",
    "import matplotlib.pyplot as plt\n",
    "from sklearn.cluster import KMeans\n",
    "import numpy as np\n",
    "\n",
    "# Импортируем библиотеки для иерархической кластеризации\n",
    "from scipy.cluster.hierarchy import linkage, dendrogram\n",
    "import matplotlib.pyplot as plt\n",
    "import pandas as pd"
   ]
  },
  {
   "cell_type": "code",
   "execution_count": null,
   "metadata": {
    "lines_to_next_cell": 2
   },
   "outputs": [],
   "source": [
    "# Загружаем набор данных\n",
    "iris_df = datasets.load_iris()\n",
    "# Методы, доступные для набора данных\n",
    "# print(dir(iris_df))\n",
    "# Признаки\n",
    "# print(iris_df.feature_names)\n",
    "# Метки\n",
    "# print(iris_df.target)\n",
    "# Имена меток\n",
    "# print(iris_df.target_names)\n",
    "# Получение только числовых значений\n",
    "# numeric_cols = iris_df._get_numeric_data().dropna(axis=1)"
   ]
  },
  {
   "cell_type": "code",
   "execution_count": null,
   "metadata": {},
   "outputs": [],
   "source": [
    "# Выбор числа кластеров для kMeans\n",
    "inertia = []\n",
    "for k in range(1, 8):\n",
    "    kmeans = KMeans(n_clusters=k, random_state=1).fit(iris_df.data)\n",
    "    inertia.append(np.sqrt(kmeans.inertia_))\n",
    "\n",
    "plt.plot(range(1, 8), inertia, marker=\"s\")\n",
    "plt.xlabel(\"$k$\")\n",
    "plt.ylabel(\"$J(C_k)$\")"
   ]
  },
  {
   "cell_type": "code",
   "execution_count": null,
   "metadata": {
    "lines_to_next_cell": 2
   },
   "outputs": [],
   "source": [
    "# -----------K-means-----------------\n",
    "# Описываем модель\n",
    "model = KMeans(n_clusters=3)\n",
    "# Проводим моделирование и предсказание на всем наборе данных к какому кластеру относится элемент\n",
    "y_predict = model.fit_predict(iris_df.data)"
   ]
  },
  {
   "cell_type": "code",
   "execution_count": null,
   "metadata": {},
   "outputs": [],
   "source": [
    "# Центры кластеров\n",
    "model.cluster_centers_"
   ]
  },
  {
   "cell_type": "code",
   "execution_count": null,
   "metadata": {},
   "outputs": [],
   "source": [
    "# Разделение набора данных\n",
    "x_axis = iris_df.data[:, 0]  # Sepal Length\n",
    "y_axis = iris_df.data[:, 1]  # Sepal Width\n",
    "\n",
    "# Построение\n",
    "plt.xlabel(iris_df.feature_names[0])\n",
    "plt.ylabel(iris_df.feature_names[1])\n",
    "plt.scatter(x_axis, y_axis, c=y_predict)\n",
    "plt.scatter(\n",
    "    model.cluster_centers_[:, 0],\n",
    "    model.cluster_centers_[:, 1],\n",
    "    marker=\"*\",\n",
    "    c=\"r\",\n",
    ")\n",
    "plt.show()"
   ]
  },
  {
   "cell_type": "code",
   "execution_count": null,
   "metadata": {},
   "outputs": [],
   "source": [
    "# -----------Иерархическая кластеризация-----------------\n",
    "# Создаем датафрейм\n",
    "iris_df = pd.read_csv(\"iris_df.csv\")\n",
    "iris_df.columns = [\"X1\", \"X2\", \"X3\", \"X4\", \"Y\"]\n",
    "# print(iris_df)\n",
    "# Исключаем информацию об образцах ириса, сохраняем для дальнейшего использования\n",
    "varieties = list(iris_df.pop(\"Y\"))"
   ]
  },
  {
   "cell_type": "code",
   "execution_count": null,
   "metadata": {},
   "outputs": [],
   "source": [
    "samples = iris_df.values\n",
    "# print(samples)\n",
    "# Реализация иерархической кластеризации при помощи функции linkage\n",
    "mergings = linkage(samples, method=\"complete\")"
   ]
  },
  {
   "cell_type": "code",
   "execution_count": null,
   "metadata": {},
   "outputs": [],
   "source": [
    "# Строим дендрограмму, указав параметры удобные для отображения\n",
    "dendrogram(\n",
    "    mergings,\n",
    "    labels=varieties,\n",
    "    leaf_rotation=90,\n",
    "    leaf_font_size=6,\n",
    "    color_threshold=3.5,\n",
    ")\n",
    "\n",
    "plt.show()"
   ]
  }
 ],
 "metadata": {
  "kernelspec": {
   "display_name": "Python 2",
   "language": "python",
   "name": "python2"
  },
  "language_info": {
   "codemirror_mode": {
    "name": "ipython",
    "version": 2
   },
   "file_extension": ".py",
   "mimetype": "text/x-python",
   "name": "python",
   "nbconvert_exporter": "python",
   "pygments_lexer": "ipython2",
   "version": "2.7.6"
  }
 },
 "nbformat": 4,
 "nbformat_minor": 0
}
